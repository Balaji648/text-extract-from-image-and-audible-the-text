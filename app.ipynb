{
 "cells": [
  {
   "cell_type": "code",
   "execution_count": null,
   "metadata": {},
   "outputs": [
    {
     "name": "stdout",
     "output_type": "stream",
     "text": [
      " * Serving Flask app '__main__'\n",
      " * Debug mode: off\n"
     ]
    },
    {
     "name": "stderr",
     "output_type": "stream",
     "text": [
      "WARNING: This is a development server. Do not use it in a production deployment. Use a production WSGI server instead.\n",
      " * Running on http://127.0.0.1:5000\n",
      "Press CTRL+C to quit\n",
      "127.0.0.1 - - [09/Feb/2025 16:14:04] \"GET / HTTP/1.1\" 200 -\n",
      "127.0.0.1 - - [09/Feb/2025 16:14:05] \"GET /static/output.mp3 HTTP/1.1\" 206 -\n",
      "127.0.0.1 - - [09/Feb/2025 16:14:05] \"GET /static/wallu.jpg HTTP/1.1\" 304 -\n",
      "127.0.0.1 - - [09/Feb/2025 16:14:05] \"GET /favicon.ico HTTP/1.1\" 404 -\n"
     ]
    }
   ],
   "source": [
    "from flask import Flask, render_template, request\n",
    "import pytesseract as tess\n",
    "from PIL import Image\n",
    "from gtts import gTTS\n",
    "\n",
    "# Set the path to the Tesseract executable\n",
    "tess.pytesseract.tesseract_cmd = r\"C:\\Users\\balaj\\OneDrive\\Desktop\\New folder\\tesseract.exe\"\n",
    "\n",
    "app = Flask(__name__)\n",
    "\n",
    "@app.route('/', methods=['GET', 'POST'])\n",
    "def upload_image():\n",
    "  if request.method == 'POST':\n",
    "    # Check if a file is uploaded\n",
    "    if 'file' not in request.files:\n",
    "      return render_template('index.html', message='No file part')\n",
    "\n",
    "    file = request.files['file']\n",
    "\n",
    "    # Check if the file is selected\n",
    "    if file.filename == '':\n",
    "      return render_template('index.html', message='No file selected')\n",
    "\n",
    "    if file:\n",
    "      # Read the uploaded image\n",
    "      img = Image.open(file)  # type: ignore\n",
    "      # Extract text from the image\n",
    "      text = tess.image_to_string(img)\n",
    "\n",
    "      # Text-to-speech conversion (if text is extracted)\n",
    "      if text:\n",
    "        tts = gTTS(text=text, lang='en')  # Change 'en' for other languages\n",
    "        tts.save(\"static\\\\output.mp3\")\n",
    "\n",
    "      # Render the result in the webpage\n",
    "      return render_template('index.html', text=text)\n",
    "\n",
    "  return render_template('index.html')\n",
    "\n",
    "if __name__ == '__main__':\n",
    "  app.run()\n"
   ]
  },
  {
   "cell_type": "code",
   "execution_count": 2,
   "metadata": {},
   "outputs": [
    {
     "name": "stdout",
     "output_type": "stream",
     "text": [
      "Requirement already satisfied: fpdf in c:\\users\\balaj\\appdata\\local\\packages\\pythonsoftwarefoundation.python.3.11_qbz5n2kfra8p0\\localcache\\local-packages\\python311\\site-packages (1.7.2)\n",
      "Note: you may need to restart the kernel to use updated packages.\n"
     ]
    }
   ],
   "source": [
    "pip install fpdf"
   ]
  },
  {
   "cell_type": "code",
   "execution_count": null,
   "metadata": {},
   "outputs": [],
   "source": []
  }
 ],
 "metadata": {
  "kernelspec": {
   "display_name": "Python 3",
   "language": "python",
   "name": "python3"
  },
  "language_info": {
   "codemirror_mode": {
    "name": "ipython",
    "version": 3
   },
   "file_extension": ".py",
   "mimetype": "text/x-python",
   "name": "python",
   "nbconvert_exporter": "python",
   "pygments_lexer": "ipython3",
   "version": "3.11.9"
  }
 },
 "nbformat": 4,
 "nbformat_minor": 2
}
